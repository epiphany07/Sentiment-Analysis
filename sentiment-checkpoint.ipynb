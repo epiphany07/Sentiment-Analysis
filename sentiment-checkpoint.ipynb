{
 "cells": [
  {
   "cell_type": "code",
   "execution_count": 23,
   "id": "345a4c50",
   "metadata": {},
   "outputs": [],
   "source": [
    "# pip install nltk"
   ]
  },
  {
   "cell_type": "code",
   "execution_count": 24,
   "id": "ef6a185c",
   "metadata": {},
   "outputs": [],
   "source": [
    "import pandas as pd\n",
    "import matplotlib.pyplot as plt\n",
    "\n",
    "df = pd.read_csv('E:/Virtusa/file_with_scores.csv')"
   ]
  },
  {
   "cell_type": "code",
   "execution_count": 25,
   "id": "1bc3ba4c",
   "metadata": {},
   "outputs": [],
   "source": [
    "# import nltk\n",
    "# nltk.download('vader_lexicon')"
   ]
  },
  {
   "cell_type": "code",
   "execution_count": 26,
   "id": "7310aef3",
   "metadata": {},
   "outputs": [],
   "source": [
    "# text_data = df['review'].tolist()\n",
    "df['sentiment_score']=0.0\n",
    "df['positive_score']=0.0\n",
    "df['negative_score']=0.0"
   ]
  },
  {
   "cell_type": "code",
   "execution_count": 27,
   "id": "fcb67b9a",
   "metadata": {},
   "outputs": [],
   "source": [
    "from textblob import TextBlob\n",
    "\n",
    "# def get_sentiment(text):\n",
    "#     blob = TextBlob(text)\n",
    "#     return blob.sentiment.polarity\n",
    "for i in range(len(df)):\n",
    "    reviews=TextBlob(df.loc[i,'review'])\n",
    "    score=reviews.sentiment.polarity\n",
    "    if(score<0):\n",
    "        df.loc[i,'positive_score']=-1*score\n",
    "        df.loc[i,'negative_score']=1+score\n",
    "    else:\n",
    "        df.loc[i,'positive_score']=score\n",
    "        df.loc[i,'negative_score']=1-score\n",
    "        \n",
    "    df.loc[i,'sentiment_score']=score\n"
   ]
  },
  {
   "cell_type": "code",
   "execution_count": 28,
   "id": "ed41cc44",
   "metadata": {
    "scrolled": true
   },
   "outputs": [],
   "source": [
    "# from nltk.sentiment.vader import SentimentIntensityAnalyzer\n",
    "# analyzer = SentimentIntensityAnalyzer()\n",
    "# sentiments = []\n",
    "# positive_score=[]\n",
    "# negative_score=[]\n",
    "# for review in df['review']:\n",
    "#     scores = analyzer.polarity_scores(review)\n",
    "#     pos_score =float(0.5 * (scores['compound'] + scores['pos']))\n",
    "#     neg_score = float(0.5 * (scores['compound'] - scores['neg']))\n",
    "#     compound_score = scores['compound']\n",
    "#     sentiments.append(compound_score)\n",
    "#     positive_score.append(pos_score)\n",
    "#     negative_score.append(neg_score)\n",
    "# df['sentiment_score']=sentiments\n",
    "# df['positive_score']=positive_score\n",
    "# df['negative_score']=negative_score"
   ]
  },
  {
   "cell_type": "code",
   "execution_count": 29,
   "id": "b497c9c7",
   "metadata": {},
   "outputs": [
    {
     "data": {
      "text/html": [
       "<div>\n",
       "<style scoped>\n",
       "    .dataframe tbody tr th:only-of-type {\n",
       "        vertical-align: middle;\n",
       "    }\n",
       "\n",
       "    .dataframe tbody tr th {\n",
       "        vertical-align: top;\n",
       "    }\n",
       "\n",
       "    .dataframe thead th {\n",
       "        text-align: right;\n",
       "    }\n",
       "</style>\n",
       "<table border=\"1\" class=\"dataframe\">\n",
       "  <thead>\n",
       "    <tr style=\"text-align: right;\">\n",
       "      <th></th>\n",
       "      <th>review</th>\n",
       "      <th>sentiment</th>\n",
       "      <th>sentiment_score</th>\n",
       "      <th>positive_score</th>\n",
       "      <th>negative_score</th>\n",
       "    </tr>\n",
       "  </thead>\n",
       "  <tbody>\n",
       "    <tr>\n",
       "      <th>0</th>\n",
       "      <td>One of the other reviewers has mentioned that ...</td>\n",
       "      <td>positive</td>\n",
       "      <td>0.023433</td>\n",
       "      <td>0.023433</td>\n",
       "      <td>0.976567</td>\n",
       "    </tr>\n",
       "    <tr>\n",
       "      <th>1</th>\n",
       "      <td>A wonderful little production. &lt;br /&gt;&lt;br /&gt;The...</td>\n",
       "      <td>positive</td>\n",
       "      <td>0.109722</td>\n",
       "      <td>0.109722</td>\n",
       "      <td>0.890278</td>\n",
       "    </tr>\n",
       "    <tr>\n",
       "      <th>2</th>\n",
       "      <td>I thought this was a wonderful way to spend ti...</td>\n",
       "      <td>positive</td>\n",
       "      <td>0.354008</td>\n",
       "      <td>0.354008</td>\n",
       "      <td>0.645992</td>\n",
       "    </tr>\n",
       "    <tr>\n",
       "      <th>3</th>\n",
       "      <td>Basically there's a family where a little boy ...</td>\n",
       "      <td>negative</td>\n",
       "      <td>-0.057813</td>\n",
       "      <td>0.057813</td>\n",
       "      <td>0.942187</td>\n",
       "    </tr>\n",
       "    <tr>\n",
       "      <th>4</th>\n",
       "      <td>Petter Mattei's \"Love in the Time of Money\" is...</td>\n",
       "      <td>positive</td>\n",
       "      <td>0.217952</td>\n",
       "      <td>0.217952</td>\n",
       "      <td>0.782048</td>\n",
       "    </tr>\n",
       "    <tr>\n",
       "      <th>...</th>\n",
       "      <td>...</td>\n",
       "      <td>...</td>\n",
       "      <td>...</td>\n",
       "      <td>...</td>\n",
       "      <td>...</td>\n",
       "    </tr>\n",
       "    <tr>\n",
       "      <th>49995</th>\n",
       "      <td>I thought this movie did a down right good job...</td>\n",
       "      <td>positive</td>\n",
       "      <td>0.394425</td>\n",
       "      <td>0.394425</td>\n",
       "      <td>0.605575</td>\n",
       "    </tr>\n",
       "    <tr>\n",
       "      <th>49996</th>\n",
       "      <td>Bad plot, bad dialogue, bad acting, idiotic di...</td>\n",
       "      <td>negative</td>\n",
       "      <td>-0.276190</td>\n",
       "      <td>0.276190</td>\n",
       "      <td>0.723810</td>\n",
       "    </tr>\n",
       "    <tr>\n",
       "      <th>49997</th>\n",
       "      <td>I am a Catholic taught in parochial elementary...</td>\n",
       "      <td>negative</td>\n",
       "      <td>0.056984</td>\n",
       "      <td>0.056984</td>\n",
       "      <td>0.943016</td>\n",
       "    </tr>\n",
       "    <tr>\n",
       "      <th>49998</th>\n",
       "      <td>I'm going to have to disagree with the previou...</td>\n",
       "      <td>negative</td>\n",
       "      <td>-0.048663</td>\n",
       "      <td>0.048663</td>\n",
       "      <td>0.951337</td>\n",
       "    </tr>\n",
       "    <tr>\n",
       "      <th>49999</th>\n",
       "      <td>No one expects the Star Trek movies to be high...</td>\n",
       "      <td>negative</td>\n",
       "      <td>0.120000</td>\n",
       "      <td>0.120000</td>\n",
       "      <td>0.880000</td>\n",
       "    </tr>\n",
       "  </tbody>\n",
       "</table>\n",
       "<p>50000 rows × 5 columns</p>\n",
       "</div>"
      ],
      "text/plain": [
       "                                                  review sentiment  \\\n",
       "0      One of the other reviewers has mentioned that ...  positive   \n",
       "1      A wonderful little production. <br /><br />The...  positive   \n",
       "2      I thought this was a wonderful way to spend ti...  positive   \n",
       "3      Basically there's a family where a little boy ...  negative   \n",
       "4      Petter Mattei's \"Love in the Time of Money\" is...  positive   \n",
       "...                                                  ...       ...   \n",
       "49995  I thought this movie did a down right good job...  positive   \n",
       "49996  Bad plot, bad dialogue, bad acting, idiotic di...  negative   \n",
       "49997  I am a Catholic taught in parochial elementary...  negative   \n",
       "49998  I'm going to have to disagree with the previou...  negative   \n",
       "49999  No one expects the Star Trek movies to be high...  negative   \n",
       "\n",
       "       sentiment_score  positive_score  negative_score  \n",
       "0             0.023433        0.023433        0.976567  \n",
       "1             0.109722        0.109722        0.890278  \n",
       "2             0.354008        0.354008        0.645992  \n",
       "3            -0.057813        0.057813        0.942187  \n",
       "4             0.217952        0.217952        0.782048  \n",
       "...                ...             ...             ...  \n",
       "49995         0.394425        0.394425        0.605575  \n",
       "49996        -0.276190        0.276190        0.723810  \n",
       "49997         0.056984        0.056984        0.943016  \n",
       "49998        -0.048663        0.048663        0.951337  \n",
       "49999         0.120000        0.120000        0.880000  \n",
       "\n",
       "[50000 rows x 5 columns]"
      ]
     },
     "execution_count": 29,
     "metadata": {},
     "output_type": "execute_result"
    }
   ],
   "source": [
    "# scores = [get_sentiment(text) for text in text_data]\n",
    "df"
   ]
  },
  {
   "cell_type": "code",
   "execution_count": 30,
   "id": "159e3069",
   "metadata": {},
   "outputs": [],
   "source": [
    "# df['sentiment_score'] = scores\n",
    "# df.to_csv('E:/Virtusa/file_with_scores.csv', index=False)"
   ]
  },
  {
   "cell_type": "code",
   "execution_count": 31,
   "id": "1a8d8f83",
   "metadata": {},
   "outputs": [
    {
     "data": {
      "image/png": "[encoded data removed]",
      "text/plain": [
       "<Figure size 640x480 with 1 Axes>"
      ]
     },
     "metadata": {},
     "output_type": "display_data"
    }
   ],
   "source": [
    "\n",
    "# # Create a histogram of the sentiment scores\n",
    "# plt.hist(df['sentiment_score'], bins=30, range=(-1,1))\n",
    "sentiment_means =df.groupby('sentiment')['sentiment_score'].mean()\n",
    "\n",
    "# Create a bar chart of the mean sentiment scores\n",
    "sentiment_means.plot(kind='bar', color='pink')\n",
    "plt.xlabel('Sentiment Score')\n",
    "plt.ylabel('Frequency')\n",
    "plt.title('Distribution of Sentiment Scores')\n",
    "plt.show()"
   ]
  },
  {
   "cell_type": "code",
   "execution_count": null,
   "id": "3979ec5c",
   "metadata": {},
   "outputs": [],
   "source": []
  }
 ],
 "metadata": {
  "kernelspec": {
   "display_name": "Python 3 (ipykernel)",
   "language": "python",
   "name": "python3"
  },
  "language_info": {
   "codemirror_mode": {
    "name": "ipython",
    "version": 3
   },
   "file_extension": ".py",
   "mimetype": "text/x-python",
   "name": "python",
   "nbconvert_exporter": "python",
   "pygments_lexer": "ipython3",
   "version": "3.9.7"
  }
 },
 "nbformat": 4,
 "nbformat_minor": 5
}
